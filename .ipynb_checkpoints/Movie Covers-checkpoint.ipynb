{
 "cells": [
  {
   "cell_type": "code",
   "execution_count": null,
   "metadata": {},
   "outputs": [],
   "source": [
    "import csv\n",
    "import urllib.parse\n",
    "import urllib.request\n",
    "from bs4 import BeautifulSoup\n",
    "\n",
    "with open('movie_url.csv', 'w', newline='') as out_csv:\n",
    "    writer = csv.writer(out_csv, delimiter=',')\n",
    "    writer.writerow(['movieId', 'url'])\n",
    "\n",
    "with open('movies.csv', 'r', newline='') as in_csv:\n",
    "    reader = csv.DictReader(in_csv, delimiter=',')\n",
    "    for row in reader:\n",
    "        movie_id = row['movieId']\n",
    "        movie_title = row['title']\n",
    "        domain = 'http://www.imdb.com'\n",
    "        search_url = domain + '/find?q=' + urllib.parse.quote_plus(movie_title)\n",
    "        with urllib.request.urlopen(search_url) as response:\n",
    "            html = response.read()\n",
    "            soup = BeautifulSoup(html, 'html.parser')\n",
    "            # Get url of 1st search result\n",
    "            try:\n",
    "                title = soup.find('table', class_='findList').tr.a['href']\n",
    "                movie_url = domain + title\n",
    "                print(movie_url)\n",
    "                with open('movie_url.csv', 'a', newline='') as out_csv:\n",
    "                    writer = csv.writer(out_csv, delimiter=',')\n",
    "                    writer.writerow([movie_id, movie_url])\n",
    "            # Ignore cases where search returns no results\n",
    "            except AttributeError:\n",
    "                pass"
   ]
  },
  {
   "cell_type": "code",
   "execution_count": null,
   "metadata": {},
   "outputs": [],
   "source": [
    "row_names = ['movie_id', 'movie_url']\n",
    "with open('movie_url.csv', 'r', newline='') as in_csv:\n",
    "    reader = csv.DictReader(in_csv, fieldnames=row_names, delimiter=',')\n",
    "    for row in reader:\n",
    "        movie_id = row['movie_id']\n",
    "        movie_url = row['movie_url']\n",
    "        domain = 'http://www.imdb.com'\n",
    "        with urllib.request.urlopen(movie_url) as response:\n",
    "            html = response.read()\n",
    "            soup = BeautifulSoup(html, 'html.parser')\n",
    "            # Get url of poster image\n",
    "            try:\n",
    "                image_url = soup.find('div', class_='poster').a.img['src']\n",
    "                # TODO: Replace hardcoded extension with extension from string itself\n",
    "                extension = '.jpg'\n",
    "                image_url = ''.join(image_url.partition('_')[0]) + extension\n",
    "                print(image_url)\n",
    "                with open('movie_poster.csv', 'a', newline='') as out_csv:\n",
    "                    writer = csv.writer(out_csv, delimiter=',')\n",
    "                    writer.writerow([movie_id, image_url])\n",
    "            # Ignore cases where no poster image is present\n",
    "            except AttributeError:\n",
    "                pass"
   ]
  }
 ],
 "metadata": {
  "kernelspec": {
   "display_name": "Python 3",
   "language": "python",
   "name": "python3"
  },
  "language_info": {
   "codemirror_mode": {
    "name": "ipython",
    "version": 3
   },
   "file_extension": ".py",
   "mimetype": "text/x-python",
   "name": "python",
   "nbconvert_exporter": "python",
   "pygments_lexer": "ipython3",
   "version": "3.7.4"
  }
 },
 "nbformat": 4,
 "nbformat_minor": 4
}
